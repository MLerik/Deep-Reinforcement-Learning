{
 "cells": [
  {
   "cell_type": "markdown",
   "metadata": {},
   "source": [
    "# Navigation\n",
    "\n",
    "---\n",
    "\n",
    "In this notebook, you will learn how to use the Unity ML-Agents environment for the first project of the [Deep Reinforcement Learning Nanodegree](https://www.udacity.com/course/deep-reinforcement-learning-nanodegree--nd893).\n",
    "\n",
    "### 1. Start the Environment\n",
    "\n",
    "We begin by importing some necessary packages.  If the code cell below returns an error, please revisit the project instructions to double-check that you have installed [Unity ML-Agents](https://github.com/Unity-Technologies/ml-agents/blob/master/docs/Installation.md) and [NumPy](http://www.numpy.org/)."
   ]
  },
  {
   "cell_type": "code",
   "execution_count": 1,
   "metadata": {},
   "outputs": [],
   "source": [
    "from unityagents import UnityEnvironment\n",
    "import numpy as np"
   ]
  },
  {
   "cell_type": "markdown",
   "metadata": {},
   "source": [
    "Next, we will start the environment!  **_Before running the code cell below_**, change the `file_name` parameter to match the location of the Unity environment that you downloaded.\n",
    "\n",
    "- **Mac**: `\"path/to/Banana.app\"`\n",
    "- **Windows** (x86): `\"path/to/Banana_Windows_x86/Banana.exe\"`\n",
    "- **Windows** (x86_64): `\"path/to/Banana_Windows_x86_64/Banana.exe\"`\n",
    "- **Linux** (x86): `\"path/to/Banana_Linux/Banana.x86\"`\n",
    "- **Linux** (x86_64): `\"path/to/Banana_Linux/Banana.x86_64\"`\n",
    "- **Linux** (x86, headless): `\"path/to/Banana_Linux_NoVis/Banana.x86\"`\n",
    "- **Linux** (x86_64, headless): `\"path/to/Banana_Linux_NoVis/Banana.x86_64\"`\n",
    "\n",
    "For instance, if you are using a Mac, then you downloaded `Banana.app`.  If this file is in the same folder as the notebook, then the line below should appear as follows:\n",
    "```\n",
    "env = UnityEnvironment(file_name=\"Banana.app\")\n",
    "```"
   ]
  },
  {
   "cell_type": "code",
   "execution_count": 2,
   "metadata": {},
   "outputs": [
    {
     "name": "stderr",
     "output_type": "stream",
     "text": [
      "INFO:unityagents:\n",
      "'Academy' started successfully!\n",
      "Unity Academy name: Academy\n",
      "        Number of Brains: 1\n",
      "        Number of External Brains : 1\n",
      "        Lesson number : 0\n",
      "        Reset Parameters :\n",
      "\t\t\n",
      "Unity brain name: BananaBrain\n",
      "        Number of Visual Observations (per agent): 0\n",
      "        Vector Observation space type: continuous\n",
      "        Vector Observation space size (per agent): 37\n",
      "        Number of stacked Vector Observation: 1\n",
      "        Vector Action space type: discrete\n",
      "        Vector Action space size (per agent): 4\n",
      "        Vector Action descriptions: , , , \n"
     ]
    }
   ],
   "source": [
    "env = UnityEnvironment(file_name=\"C:/Users/u224870/Projekte/deep-reinforcement-learning/p1_navigation/Banana_Windows_x86_64/Banana_Windows_x86_64/Banana.exe\", no_graphics=True);"
   ]
  },
  {
   "cell_type": "markdown",
   "metadata": {},
   "source": [
    "Environments contain **_brains_** which are responsible for deciding the actions of their associated agents. Here we check for the first brain available, and set it as the default brain we will be controlling from Python."
   ]
  },
  {
   "cell_type": "code",
   "execution_count": 3,
   "metadata": {},
   "outputs": [],
   "source": [
    "# get the default brain\n",
    "brain_name = env.brain_names[0]\n",
    "brain = env.brains[brain_name]"
   ]
  },
  {
   "cell_type": "markdown",
   "metadata": {},
   "source": [
    "### 2. Examine the State and Action Spaces\n",
    "\n",
    "The simulation contains a single agent that navigates a large environment.  At each time step, it has four actions at its disposal:\n",
    "- `0` - walk forward \n",
    "- `1` - walk backward\n",
    "- `2` - turn left\n",
    "- `3` - turn right\n",
    "\n",
    "The state space has `37` dimensions and contains the agent's velocity last two entries of the state.\n",
    "The other 35 dimensions are ray-based perception of objects around agent's forward direction. This includes binary information about what is present and real number value to indicate the distance (I think). \n",
    "\n",
    "A reward of `+1` is provided for collecting a yellow banana, and a reward of `-1` is provided for collecting a blue banana. \n",
    "\n",
    "Run the code cell below to print some information about the environment."
   ]
  },
  {
   "cell_type": "code",
   "execution_count": 4,
   "metadata": {},
   "outputs": [
    {
     "name": "stdout",
     "output_type": "stream",
     "text": [
      "Number of agents: 1\n",
      "Number of actions: 4\n",
      "States look like: [1.         0.         0.         0.         0.84408134 0.\n",
      " 0.         1.         0.         0.0748472  0.         1.\n",
      " 0.         0.         0.25755    1.         0.         0.\n",
      " 0.         0.74177343 0.         1.         0.         0.\n",
      " 0.25854847 0.         0.         1.         0.         0.09355672\n",
      " 0.         1.         0.         0.         0.31969345 0.\n",
      " 0.        ]\n",
      "States have length: 37\n"
     ]
    }
   ],
   "source": [
    "# reset the environment\n",
    "env_info = env.reset(train_mode=True)[brain_name]\n",
    "\n",
    "# number of agents in the environment\n",
    "print('Number of agents:', len(env_info.agents))\n",
    "\n",
    "# number of actions\n",
    "action_size = brain.vector_action_space_size\n",
    "print('Number of actions:', action_size)\n",
    "\n",
    "# examine the state space \n",
    "state = env_info.vector_observations[0]\n",
    "print('States look like:', state)\n",
    "state_size = len(state)\n",
    "print('States have length:', state_size)"
   ]
  },
  {
   "cell_type": "markdown",
   "metadata": {},
   "source": [
    "### 3. Train a dueling DDQN agent to solve the problem\n",
    "\n",
    "We start by inporting some more libraries necessary for training.\n",
    "First we import the Agent (you can find the file in '/agent/DQN_Agent.py').\n",
    "We use collections and pyplot to monitor the progress during learning."
   ]
  },
  {
   "cell_type": "code",
   "execution_count": 5,
   "metadata": {},
   "outputs": [
    {
     "name": "stdout",
     "output_type": "stream",
     "text": [
      "cpu\n"
     ]
    }
   ],
   "source": [
    "from agent.DQN_Agent import Agent\n",
    "from collections import deque\n",
    "import matplotlib.pyplot as plt\n",
    "from IPython import display"
   ]
  },
  {
   "cell_type": "markdown",
   "metadata": {},
   "source": [
    "### Hyperparameter\n",
    "We chose the hyperparameters for training. To sample the hyperparameters it would be better to work outside of a notebook. Due to the quick convergence of the algorithm with the initial hyperparameters we don't need to sample for better performing parameters.\n",
    "\n",
    "Here we introduce a vector limited_actions. This was mainly used early in the developing process to see if the agent could also solve the task when certain options are removed (e.g. remove option to walk backwards, since all sensors are front facing).\n",
    "\n",
    "Hyperparameters:\n",
    "\n",
    "- eps - Initial epsilon set to 1 => Full exploration and no exploitation for untrained agent\n",
    "- eps_min - Minimal exploration will remain during all of training\n",
    "- epd_decay - This parameter defines how fast the agent will start exploiting the learned strategy\n",
    "\n",
    "All other hyperparameters are set in the Agent and Model files."
   ]
  },
  {
   "cell_type": "code",
   "execution_count": 6,
   "metadata": {},
   "outputs": [],
   "source": [
    "agent = Agent(state_size=state_size, action_size=action_size,  seed=0)\n",
    "n_episodes = 3000\n",
    "np.set_printoptions(formatter={'float': lambda x: \"{0:0.3f}\".format(x)})\n",
    "limited_actions = [0,1,2,3]\n",
    "eps = 1.\n",
    "eps_min = 0.001\n",
    "eps_decay = 0.995"
   ]
  },
  {
   "cell_type": "markdown",
   "metadata": {},
   "source": [
    "Initialize the parameters for plotting and keeping track of the score."
   ]
  },
  {
   "cell_type": "code",
   "execution_count": null,
   "metadata": {},
   "outputs": [],
   "source": [
    "max_score = 0.\n",
    "mean_score = deque(maxlen = 100)\n",
    "success = deque(maxlen = 100)\n",
    "plot_success =[]\n",
    "plot_score = []\n",
    "solved = False"
   ]
  },
  {
   "cell_type": "markdown",
   "metadata": {},
   "source": [
    "### Training through interaction with the environment\n",
    "Here we let the agent interact with the environment and gain experiences. The experiences are stored as tuples containing:\n",
    "- state - Observation of the environment consisting of a 37 dimensional array\n",
    "- action - Action the agent performed to get from state -> next_state\n",
    "- reward - The environment returns a reward [-1,0,1] after each action \n",
    "- next_state - The next state the environment is in after the agent performed an action\n",
    "- done - Whether the environment has terminated or not (This is important for the Q-Value update)\n",
    "\n",
    "If the agent achieves an average score above 13, we save the network weights. We also check for best perfoming agent_state and save the network whenever a new record is set."
   ]
  },
  {
   "cell_type": "code",
   "execution_count": null,
   "metadata": {},
   "outputs": [
    {
     "name": "stdout",
     "output_type": "stream",
     "text": [
      "Done after 878 Episodes!\n",
      "\r",
      "Episode 878\tAverage Score: 16.83 \tAverage Successrate: 89 \tEpsilon: 0.012264924940880204"
     ]
    },
    {
     "data": {
      "image/png": "[encoded data removed]",
      "text/plain": [
       "<Figure size 432x288 with 1 Axes>"
      ]
     },
     "metadata": {},
     "output_type": "display_data"
    }
   ],
   "source": [
    "for i in range(1,n_episodes+1):\n",
    "    score = 0 # initialize the score\n",
    "    env_info = env.reset(train_mode=True)[brain_name] # reset the environment\n",
    "    state = env_info.vector_observations[0]            # get the current state\n",
    "    while True:\n",
    "        action = agent.act(state, eps)        # select an action\n",
    "        env_info = env.step(limited_actions[action])[brain_name]        # send the action to the environment\n",
    "        next_state = env_info.vector_observations[0]   # get the next state\n",
    "        reward = env_info.rewards[0]                   # get the reward\n",
    "        done = env_info.local_done[0]                  # see if episode has finished\n",
    "        agent.step(state, action, reward, next_state,done)\n",
    "        score += reward                                # update the score\n",
    "        state = next_state                             # roll over the state to next time step\n",
    "        if done:                                       # exit loop if episode finished\n",
    "            break\n",
    "    # Get a feeling of how many episode terminate above a score of 13.\n",
    "    if score >= 13.:\n",
    "        success.append(1.)\n",
    "    else:\n",
    "        success.append(0.)\n",
    "    # Check if desired performance is reached\n",
    "    if np.mean(mean_score) >= 13. and not solved:\n",
    "        solved = True\n",
    "        print(\"Done after {} Episodes!\".format(i))\n",
    "        solved_after = i\n",
    "        agent.save('./Nets/sucessful_network.pth')\n",
    "    if score > max_score and score > 13.:\n",
    "        max_score = score\n",
    "        agent.save('./Nets/best_network.pth')\n",
    "    mean_score.append(score)\n",
    "    plot_success.append(10*np.mean(success))\n",
    "    plot_score.append(np.mean(mean_score))\n",
    "    eps = max(eps_min, eps_decay * eps)  # decrease epsilon    \n",
    "    print('\\rEpisode {}\\tAverage Score: {:.2f} \\tAverage Successrate: {:.0f} \\tEpsilon: {}'.format(i, np.mean(mean_score),100*np.mean(success),eps), end=\"\")\n",
    "    plt.plot(plot_success)\n",
    "    plt.plot(plot_score)\n",
    "    plt.xlabel(\"Episode\")\n",
    "    plt.ylabel(\"Average Score\")\n",
    "    plt.show()\n",
    "    \n",
    "    display.clear_output(wait=True)\n",
    "print(\"Solves problem after {} steps!\".format(solved_after))\n"
   ]
  },
  {
   "cell_type": "code",
   "execution_count": null,
   "metadata": {},
   "outputs": [],
   "source": [
    "env.close()"
   ]
  },
  {
   "cell_type": "code",
   "execution_count": null,
   "metadata": {},
   "outputs": [],
   "source": []
  }
 ],
 "metadata": {
  "kernelspec": {
   "display_name": "Python 3",
   "language": "python",
   "name": "python3"
  },
  "language_info": {
   "codemirror_mode": {
    "name": "ipython",
    "version": 3
   },
   "file_extension": ".py",
   "mimetype": "text/x-python",
   "name": "python",
   "nbconvert_exporter": "python",
   "pygments_lexer": "ipython3",
   "version": "3.6.5"
  }
 },
 "nbformat": 4,
 "nbformat_minor": 2
}
