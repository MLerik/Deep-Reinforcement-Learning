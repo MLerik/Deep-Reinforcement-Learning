{
 "cells": [
  {
   "cell_type": "markdown",
   "metadata": {},
   "source": [
    "# Continuous Control\n",
    "\n",
    "---\n",
    "\n",
    "In this notebook, you will learn how to use the Unity ML-Agents environment for the second project of the [Deep Reinforcement Learning Nanodegree](https://www.udacity.com/course/deep-reinforcement-learning-nanodegree--nd893) program.\n",
    "\n",
    "### 1. Start the Environment\n",
    "\n",
    "We begin by importing the necessary packages.  If the code cell below returns an error, please revisit the project instructions to double-check that you have installed [Unity ML-Agents](https://github.com/Unity-Technologies/ml-agents/blob/master/docs/Installation.md) and [NumPy](http://www.numpy.org/)."
   ]
  },
  {
   "cell_type": "code",
   "execution_count": 1,
   "metadata": {},
   "outputs": [],
   "source": [
    "from Agent.ddpg_agent import Agent\n",
    "from Agent.ddpg_agent_homogeneous import Agent_H\n",
    "import random, torch, time\n",
    "import numpy as np\n",
    "from collections import deque\n",
    "import matplotlib.pyplot as plt\n",
    "from unityagents import UnityEnvironment\n",
    "from torch.autograd import Variable\n",
    "\n",
    "%matplotlib inline"
   ]
  },
  {
   "cell_type": "markdown",
   "metadata": {},
   "source": [
    "Next, we will start the environment!  **_Before running the code cell below_**, change the `file_name` parameter to match the location of the Unity environment that you downloaded.\n",
    "\n",
    "- **Mac**: `\"path/to/Reacher.app\"`\n",
    "- **Windows** (x86): `\"path/to/Reacher_Windows_x86/Reacher.exe\"`\n",
    "- **Windows** (x86_64): `\"path/to/Reacher_Windows_x86_64/Reacher.exe\"`\n",
    "- **Linux** (x86): `\"path/to/Reacher_Linux/Reacher.x86\"`\n",
    "- **Linux** (x86_64): `\"path/to/Reacher_Linux/Reacher.x86_64\"`\n",
    "- **Linux** (x86, headless): `\"path/to/Reacher_Linux_NoVis/Reacher.x86\"`\n",
    "- **Linux** (x86_64, headless): `\"path/to/Reacher_Linux_NoVis/Reacher.x86_64\"`\n",
    "\n",
    "For instance, if you are using a Mac, then you downloaded `Reacher.app`.  If this file is in the same folder as the notebook, then the line below should appear as follows:\n",
    "```\n",
    "env = UnityEnvironment(file_name=\"Reacher.app\")\n",
    "```"
   ]
  },
  {
   "cell_type": "code",
   "execution_count": 2,
   "metadata": {},
   "outputs": [
    {
     "name": "stderr",
     "output_type": "stream",
     "text": [
      "INFO:unityagents:\n",
      "'Academy' started successfully!\n",
      "Unity Academy name: Academy\n",
      "        Number of Brains: 1\n",
      "        Number of External Brains : 1\n",
      "        Lesson number : 0\n",
      "        Reset Parameters :\n",
      "\t\tgoal_speed -> 1.0\n",
      "\t\tgoal_size -> 5.0\n",
      "Unity brain name: ReacherBrain\n",
      "        Number of Visual Observations (per agent): 0\n",
      "        Vector Observation space type: continuous\n",
      "        Vector Observation space size (per agent): 33\n",
      "        Number of stacked Vector Observation: 1\n",
      "        Vector Action space type: continuous\n",
      "        Vector Action space size (per agent): 4\n",
      "        Vector Action descriptions: , , , \n"
     ]
    }
   ],
   "source": [
    "env = UnityEnvironment(file_name='C:/Users/u224870/Projekte/Reacher2/Reacher.exe')"
   ]
  },
  {
   "cell_type": "markdown",
   "metadata": {},
   "source": [
    "Environments contain **_brains_** which are responsible for deciding the actions of their associated agents. Here we check for the first brain available, and set it as the default brain we will be controlling from Python."
   ]
  },
  {
   "cell_type": "code",
   "execution_count": 3,
   "metadata": {},
   "outputs": [],
   "source": [
    "# get the default brain\n",
    "brain_name = env.brain_names[0]\n",
    "brain = env.brains[brain_name]"
   ]
  },
  {
   "cell_type": "markdown",
   "metadata": {},
   "source": [
    "### 2. Examine the State and Action Spaces\n",
    "\n",
    "In this environment, a double-jointed arm can move to target locations. A reward of `+0.1` is provided for each step that the agent's hand is in the goal location. Thus, the goal of your agent is to maintain its position at the target location for as many time steps as possible.\n",
    "\n",
    "The observation space consists of `33` variables corresponding to position, rotation, velocity, and angular velocities of the arm.  Each action is a vector with four numbers, corresponding to torque applicable to two joints.  Every entry in the action vector must be a number between `-1` and `1`.\n",
    "\n",
    "Run the code cell below to print some information about the environment."
   ]
  },
  {
   "cell_type": "code",
   "execution_count": 4,
   "metadata": {},
   "outputs": [
    {
     "name": "stdout",
     "output_type": "stream",
     "text": [
      "Number of agents: 20\n",
      "Size of each action: 4\n",
      "There are 20 agents. Each observes a state with length: 33\n",
      "The state for the first agent looks like: [ 0.00000000e+00 -4.00000000e+00  0.00000000e+00  1.00000000e+00\n",
      " -0.00000000e+00 -0.00000000e+00 -4.37113883e-08  0.00000000e+00\n",
      "  0.00000000e+00  0.00000000e+00  0.00000000e+00  0.00000000e+00\n",
      "  0.00000000e+00  0.00000000e+00 -1.00000000e+01  0.00000000e+00\n",
      "  1.00000000e+00 -0.00000000e+00 -0.00000000e+00 -4.37113883e-08\n",
      "  0.00000000e+00  0.00000000e+00  0.00000000e+00  0.00000000e+00\n",
      "  0.00000000e+00  0.00000000e+00  5.75471878e+00 -1.00000000e+00\n",
      "  5.55726624e+00  0.00000000e+00  1.00000000e+00  0.00000000e+00\n",
      " -1.68164849e-01]\n"
     ]
    }
   ],
   "source": [
    "# reset the environment\n",
    "env_info = env.reset(train_mode=True)[brain_name]\n",
    "\n",
    "# number of agents\n",
    "num_agents = len(env_info.agents)\n",
    "print('Number of agents:', num_agents)\n",
    "\n",
    "# size of each action\n",
    "action_size = brain.vector_action_space_size\n",
    "print('Size of each action:', action_size)\n",
    "\n",
    "# examine the state space \n",
    "states = env_info.vector_observations\n",
    "state_size = states.shape[1]\n",
    "print('There are {} agents. Each observes a state with length: {}'.format(states.shape[0], state_size))\n",
    "print('The state for the first agent looks like:', states[0])"
   ]
  },
  {
   "cell_type": "markdown",
   "metadata": {},
   "source": [
    "### 4.My solution\n",
    "When training the environment, set `train_mode=True`, so that the line for resetting the environment looks like the following:\n",
    "```python\n",
    "env_info = env.reset(train_mode=True)[brain_name]\n",
    "```"
   ]
  },
  {
   "cell_type": "markdown",
   "metadata": {},
   "source": [
    "Heterogeneous agents: This means each agent has its own policy and acts accordingly. The agents only share their experiences"
   ]
  },
  {
   "cell_type": "code",
   "execution_count": 5,
   "metadata": {},
   "outputs": [],
   "source": [
    "#agent = Agent(state_size=33, action_size=4,nbr_agents = num_agents, random_seed=2)"
   ]
  },
  {
   "cell_type": "markdown",
   "metadata": {},
   "source": [
    "Alternatively we can use homogeneous agents which all share the same policy. This method trains much faster as only one neural net needs to be updated. However we only expolre with one single agent over 20 parallel trajectories."
   ]
  },
  {
   "cell_type": "code",
   "execution_count": 6,
   "metadata": {},
   "outputs": [],
   "source": [
    "agent = Agent_H(state_size=33, action_size=4,nbr_agents = num_agents, random_seed=2)"
   ]
  },
  {
   "cell_type": "code",
   "execution_count": 7,
   "metadata": {},
   "outputs": [],
   "source": [
    "n_episodes=1000\n",
    "print_every=100\n",
    "scores_deque = deque(maxlen=print_every)\n",
    "scores = np.zeros(num_agents)     "
   ]
  },
  {
   "cell_type": "code",
   "execution_count": 8,
   "metadata": {},
   "outputs": [],
   "source": [
    "def ddpg(n_episodes=1000, max_t=1000):\n",
    "        \n",
    "    scores_window = deque(maxlen=100)\n",
    "    scores = []\n",
    "    total_time_elapsed = 0\n",
    "    for i_episode in range(1, n_episodes+1):\n",
    "        avg_score = 0\n",
    "        env_info = env.reset(train_mode=True)[brain_name]      # reset the environment    \n",
    "        states = env_info.vector_observations                  # get the current state (for each agent)\n",
    "        scores_t = np.zeros(num_agents)                        # initialize the score (for each agent)\n",
    "        agent.reset()\n",
    "        score = 0\n",
    "        for t_step in range(max_t):\n",
    "            actions = agent.act(states)     \n",
    "            env_info = env.step(actions)[brain_name]           # send all actions to tne environment\n",
    "            next_states = env_info.vector_observations         # get next state (for each agent)\n",
    "            rewards = env_info.rewards                         # get reward (for each agent)\n",
    "            dones = env_info.local_done                        # see if episode finished   \n",
    "            agent.step(states, actions, rewards, next_states, dones, t_step)\n",
    "            states = next_states\n",
    "            scores_t += rewards\n",
    "            if np.any(dones):\n",
    "                break\n",
    "        \n",
    "        score = np.mean(scores_t)\n",
    "        scores_window.append(score)\n",
    "        avg_score = np.mean(scores_window)\n",
    "        scores.append(score)        \n",
    "        \n",
    "\n",
    "        print(\"\\rEpisode {:}\\t Average Score {:.2f}\\tMax Score {:.2f}\".format(i_episode, avg_score, scores_t.max()), end=\"\")\n",
    "\n",
    "        \n",
    "        if i_episode % 100 == 0:\n",
    "            print(\"\\rEpisode {:}\\t Average Score {:.2f}\\tMax Score {:.2f}\".format(i_episode, avg_score, scores_t.max()))\n",
    "\n",
    "        if avg_score >= 30:\n",
    "            print('\\nEnvironment solved in {:d} episodes!\\tAverage Score: {:.2f}'.format(i_episode, avg_score))\n",
    "            torch.save(agent.actor_local.state_dict(), './Nets/checkpoint_actor.pth')\n",
    "            torch.save(agent.critic_local.state_dict(), './Nets/checkpoint_critic.pth')\n",
    "            \n",
    "        if avg_score >= 35:\n",
    "            torch.save(agent.actor_local.state_dict(), './Nets/checkpoint_actor_best.pth')\n",
    "            torch.save(agent.critic_local.state_dict(), './Nets/checkpoint_critic_best.pth') \n",
    "            break\n",
    "    return scores"
   ]
  },
  {
   "cell_type": "code",
   "execution_count": 9,
   "metadata": {},
   "outputs": [
    {
     "name": "stdout",
     "output_type": "stream",
     "text": [
      "Episode 100\t Average Score 12.20\tMax Score 35.40\n",
      "Episode 177\t Average Score 30.09\tMax Score 38.90\n",
      "Environment solved in 177 episodes!\tAverage Score: 30.09\n",
      "Episode 178\t Average Score 30.26\tMax Score 38.77\n",
      "Environment solved in 178 episodes!\tAverage Score: 30.26\n",
      "Episode 179\t Average Score 30.42\tMax Score 38.65\n",
      "Environment solved in 179 episodes!\tAverage Score: 30.42\n",
      "Episode 180\t Average Score 30.58\tMax Score 39.01\n",
      "Environment solved in 180 episodes!\tAverage Score: 30.58\n",
      "Episode 181\t Average Score 30.73\tMax Score 38.64\n",
      "Environment solved in 181 episodes!\tAverage Score: 30.73\n",
      "Episode 182\t Average Score 30.90\tMax Score 38.97\n",
      "Environment solved in 182 episodes!\tAverage Score: 30.90\n",
      "Episode 183\t Average Score 31.06\tMax Score 38.63\n",
      "Environment solved in 183 episodes!\tAverage Score: 31.06\n",
      "Episode 184\t Average Score 31.23\tMax Score 38.45\n",
      "Environment solved in 184 episodes!\tAverage Score: 31.23\n",
      "Episode 185\t Average Score 31.39\tMax Score 38.11\n",
      "Environment solved in 185 episodes!\tAverage Score: 31.39\n",
      "Episode 186\t Average Score 31.56\tMax Score 39.47\n",
      "Environment solved in 186 episodes!\tAverage Score: 31.56\n",
      "Episode 187\t Average Score 31.70\tMax Score 37.48\n",
      "Environment solved in 187 episodes!\tAverage Score: 31.70\n",
      "Episode 188\t Average Score 31.85\tMax Score 38.01\n",
      "Environment solved in 188 episodes!\tAverage Score: 31.85\n",
      "Episode 189\t Average Score 32.01\tMax Score 38.54\n",
      "Environment solved in 189 episodes!\tAverage Score: 32.01\n",
      "Episode 190\t Average Score 32.18\tMax Score 39.29\n",
      "Environment solved in 190 episodes!\tAverage Score: 32.18\n",
      "Episode 191\t Average Score 32.33\tMax Score 39.52\n",
      "Environment solved in 191 episodes!\tAverage Score: 32.33\n",
      "Episode 192\t Average Score 32.50\tMax Score 39.53\n",
      "Environment solved in 192 episodes!\tAverage Score: 32.50\n",
      "Episode 193\t Average Score 32.65\tMax Score 38.77\n",
      "Environment solved in 193 episodes!\tAverage Score: 32.65\n",
      "Episode 194\t Average Score 32.76\tMax Score 37.86\n",
      "Environment solved in 194 episodes!\tAverage Score: 32.76\n",
      "Episode 195\t Average Score 32.89\tMax Score 39.53\n",
      "Environment solved in 195 episodes!\tAverage Score: 32.89\n",
      "Episode 196\t Average Score 33.01\tMax Score 38.89\n",
      "Environment solved in 196 episodes!\tAverage Score: 33.01\n",
      "Episode 197\t Average Score 33.15\tMax Score 38.66\n",
      "Environment solved in 197 episodes!\tAverage Score: 33.15\n",
      "Episode 198\t Average Score 33.29\tMax Score 38.71\n",
      "Environment solved in 198 episodes!\tAverage Score: 33.29\n",
      "Episode 199\t Average Score 33.43\tMax Score 39.51\n",
      "Environment solved in 199 episodes!\tAverage Score: 33.43\n",
      "Episode 200\t Average Score 33.55\tMax Score 38.78\n",
      "\n",
      "Environment solved in 200 episodes!\tAverage Score: 33.55\n",
      "Episode 201\t Average Score 33.68\tMax Score 39.51\n",
      "Environment solved in 201 episodes!\tAverage Score: 33.68\n",
      "Episode 202\t Average Score 33.80\tMax Score 38.94\n",
      "Environment solved in 202 episodes!\tAverage Score: 33.80\n",
      "Episode 203\t Average Score 33.92\tMax Score 38.84\n",
      "Environment solved in 203 episodes!\tAverage Score: 33.92\n",
      "Episode 204\t Average Score 34.04\tMax Score 38.72\n",
      "Environment solved in 204 episodes!\tAverage Score: 34.04\n",
      "Episode 205\t Average Score 34.14\tMax Score 38.89\n",
      "Environment solved in 205 episodes!\tAverage Score: 34.14\n",
      "Episode 206\t Average Score 34.26\tMax Score 39.39\n",
      "Environment solved in 206 episodes!\tAverage Score: 34.26\n",
      "Episode 207\t Average Score 34.36\tMax Score 39.61\n",
      "Environment solved in 207 episodes!\tAverage Score: 34.36\n",
      "Episode 208\t Average Score 34.44\tMax Score 39.31\n",
      "Environment solved in 208 episodes!\tAverage Score: 34.44\n",
      "Episode 209\t Average Score 34.53\tMax Score 38.53\n",
      "Environment solved in 209 episodes!\tAverage Score: 34.53\n",
      "Episode 210\t Average Score 34.60\tMax Score 39.44\n",
      "Environment solved in 210 episodes!\tAverage Score: 34.60\n",
      "Episode 211\t Average Score 34.69\tMax Score 39.35\n",
      "Environment solved in 211 episodes!\tAverage Score: 34.69\n",
      "Episode 212\t Average Score 34.78\tMax Score 39.29\n",
      "Environment solved in 212 episodes!\tAverage Score: 34.78\n",
      "Episode 213\t Average Score 34.85\tMax Score 39.53\n",
      "Environment solved in 213 episodes!\tAverage Score: 34.85\n",
      "Episode 214\t Average Score 34.91\tMax Score 38.82\n",
      "Environment solved in 214 episodes!\tAverage Score: 34.91\n",
      "Episode 215\t Average Score 34.96\tMax Score 39.02\n",
      "Environment solved in 215 episodes!\tAverage Score: 34.96\n",
      "Episode 216\t Average Score 35.02\tMax Score 39.26\n",
      "Environment solved in 216 episodes!\tAverage Score: 35.02\n"
     ]
    },
    {
     "data": {
      "image/png": "[encoded data removed]",
      "text/plain": [
       "<Figure size 432x288 with 1 Axes>"
      ]
     },
     "metadata": {},
     "output_type": "display_data"
    }
   ],
   "source": [
    "# Train agents\n",
    "scores = ddpg()\n",
    "\n",
    "#Plot results\n",
    "fig = plt.figure()\n",
    "ax = fig.add_subplot(111)\n",
    "plt.plot(np.arange(1, len(scores)+1), scores)\n",
    "plt.ylabel('Score')\n",
    "plt.xlabel('Episode #')\n",
    "plt.show()"
   ]
  },
  {
   "cell_type": "code",
   "execution_count": 15,
   "metadata": {},
   "outputs": [
    {
     "data": {
      "image/png": "[encoded data removed]",
      "text/plain": [
       "<Figure size 720x432 with 1 Axes>"
      ]
     },
     "metadata": {},
     "output_type": "display_data"
    }
   ],
   "source": [
    "fig, ax = plt.subplots(figsize=(10, 6))\n",
    "ax.plot(scores,color ='b',  label='DDPG')\n",
    "ax.plot(np.zeros(len(scores)),'black')\n",
    "ax.plot(30*np.ones(len(scores)),'r:')\n",
    "legend = ax.legend(loc='lower right', shadow=True, fontsize='x-large')\n",
    "plt.xlabel(\"Episode\")\n",
    "plt.ylabel(\"Average Score\")\n",
    "fig.savefig(\"./Images/Training.png\")"
   ]
  },
  {
   "cell_type": "code",
   "execution_count": 10,
   "metadata": {},
   "outputs": [
    {
     "name": "stdout",
     "output_type": "stream",
     "text": [
      "36.756999178417026\n"
     ]
    }
   ],
   "source": [
    "env_info = env.reset(train_mode=False)[brain_name]      # reset the environment    \n",
    "states = env_info.vector_observations                  # get the current state (for each agent)\n",
    "scores_t = np.zeros(num_agents)                        # initialize the score (for each agent)\n",
    "agent.reset()\n",
    "score = 0\n",
    "t_step = 0\n",
    "agent.load('./Nets/checkpoint_actor_best.pth','./Nets/checkpoint_critic_best.pth')\n",
    "while True:\n",
    "    actions = agent.act(states)     \n",
    "    env_info = env.step(actions)[brain_name]           # send all actions to tne environment\n",
    "    next_states = env_info.vector_observations         # get next state (for each agent)\n",
    "    rewards = env_info.rewards                         # get reward (for each agent)\n",
    "    dones = env_info.local_done                        # see if episode finished   \n",
    "    states = next_states\n",
    "    scores_t += rewards\n",
    "    if np.any(dones):\n",
    "        break\n",
    "print(np.mean(scores_t))"
   ]
  },
  {
   "cell_type": "code",
   "execution_count": 11,
   "metadata": {},
   "outputs": [],
   "source": [
    "env.close()"
   ]
  },
  {
   "cell_type": "code",
   "execution_count": null,
   "metadata": {},
   "outputs": [],
   "source": []
  }
 ],
 "metadata": {
  "kernelspec": {
   "display_name": "Python 3",
   "language": "python",
   "name": "python3"
  },
  "language_info": {
   "codemirror_mode": {
    "name": "ipython",
    "version": 3
   },
   "file_extension": ".py",
   "mimetype": "text/x-python",
   "name": "python",
   "nbconvert_exporter": "python",
   "pygments_lexer": "ipython3",
   "version": "3.6.5"
  }
 },
 "nbformat": 4,
 "nbformat_minor": 2
}
