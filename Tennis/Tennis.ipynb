{
 "cells": [
  {
   "cell_type": "markdown",
   "metadata": {},
   "source": [
    "# Collaboration and Competition\n",
    "\n",
    "---\n",
    "\n",
    "In this notebook, you will learn how to use the Unity ML-Agents environment for the third project of the [Deep Reinforcement Learning Nanodegree](https://www.udacity.com/course/deep-reinforcement-learning-nanodegree--nd893) program.\n",
    "\n",
    "### 1. Start the Environment\n",
    "\n",
    "We begin by importing the necessary packages.  If the code cell below returns an error, please revisit the project instructions to double-check that you have installed [Unity ML-Agents](https://github.com/Unity-Technologies/ml-agents/blob/master/docs/Installation.md) and [NumPy](http://www.numpy.org/)."
   ]
  },
  {
   "cell_type": "code",
   "execution_count": 1,
   "metadata": {},
   "outputs": [],
   "source": [
    "from Agent.ddpg_agent import Agent\n",
    "from Agent.ddpg_agent_homogeneous import Agent_H\n",
    "import random, torch, time\n",
    "import numpy as np\n",
    "from collections import deque\n",
    "import matplotlib.pyplot as plt\n",
    "from unityagents import UnityEnvironment\n",
    "from torch.autograd import Variable\n",
    "\n",
    "%matplotlib inline"
   ]
  },
  {
   "cell_type": "markdown",
   "metadata": {},
   "source": [
    "Next, we will start the environment!  **_Before running the code cell below_**, change the `file_name` parameter to match the location of the Unity environment that you downloaded.\n",
    "\n",
    "- **Mac**: `\"path/to/Tennis.app\"`\n",
    "- **Windows** (x86): `\"path/to/Tennis_Windows_x86/Tennis.exe\"`\n",
    "- **Windows** (x86_64): `\"path/to/Tennis_Windows_x86_64/Tennis.exe\"`\n",
    "- **Linux** (x86): `\"path/to/Tennis_Linux/Tennis.x86\"`\n",
    "- **Linux** (x86_64): `\"path/to/Tennis_Linux/Tennis.x86_64\"`\n",
    "- **Linux** (x86, headless): `\"path/to/Tennis_Linux_NoVis/Tennis.x86\"`\n",
    "- **Linux** (x86_64, headless): `\"path/to/Tennis_Linux_NoVis/Tennis.x86_64\"`\n",
    "\n",
    "For instance, if you are using a Mac, then you downloaded `Tennis.app`.  If this file is in the same folder as the notebook, then the line below should appear as follows:\n",
    "```\n",
    "env = UnityEnvironment(file_name=\"Tennis.app\")\n",
    "```"
   ]
  },
  {
   "cell_type": "code",
   "execution_count": 2,
   "metadata": {},
   "outputs": [
    {
     "name": "stderr",
     "output_type": "stream",
     "text": [
      "INFO:unityagents:\n",
      "'Academy' started successfully!\n",
      "Unity Academy name: Academy\n",
      "        Number of Brains: 1\n",
      "        Number of External Brains : 1\n",
      "        Lesson number : 0\n",
      "        Reset Parameters :\n",
      "\t\t\n",
      "Unity brain name: TennisBrain\n",
      "        Number of Visual Observations (per agent): 0\n",
      "        Vector Observation space type: continuous\n",
      "        Vector Observation space size (per agent): 8\n",
      "        Number of stacked Vector Observation: 3\n",
      "        Vector Action space type: continuous\n",
      "        Vector Action space size (per agent): 2\n",
      "        Vector Action descriptions: , \n"
     ]
    }
   ],
   "source": [
    "env = UnityEnvironment(file_name=\"C:/Users/u224870/OneDrive - SBB/Projekte/Udacity/Deep-Reinforcement-Learning/Tennis/Tennis_Windows_x86_64/Tennis_Windows_x86_64/Tennis\")"
   ]
  },
  {
   "cell_type": "markdown",
   "metadata": {},
   "source": [
    "Environments contain **_brains_** which are responsible for deciding the actions of their associated agents. Here we check for the first brain available, and set it as the default brain we will be controlling from Python."
   ]
  },
  {
   "cell_type": "code",
   "execution_count": 3,
   "metadata": {},
   "outputs": [],
   "source": [
    "# get the default brain\n",
    "brain_name = env.brain_names[0]\n",
    "brain = env.brains[brain_name]"
   ]
  },
  {
   "cell_type": "markdown",
   "metadata": {},
   "source": [
    "### 2. Examine the State and Action Spaces\n",
    "\n",
    "In this environment, two agents control rackets to bounce a ball over a net. If an agent hits the ball over the net, it receives a reward of +0.1.  If an agent lets a ball hit the ground or hits the ball out of bounds, it receives a reward of -0.01.  Thus, the goal of each agent is to keep the ball in play.\n",
    "\n",
    "The observation space consists of 8 variables corresponding to the position and velocity of the ball and racket. Two continuous actions are available, corresponding to movement toward (or away from) the net, and jumping. \n",
    "\n",
    "Run the code cell below to print some information about the environment."
   ]
  },
  {
   "cell_type": "code",
   "execution_count": 4,
   "metadata": {},
   "outputs": [
    {
     "name": "stdout",
     "output_type": "stream",
     "text": [
      "Number of agents: 2\n",
      "Size of each action: 2\n",
      "There are 2 agents. Each observes a state with length: 24\n",
      "The state bfor the first agent looks like: [ 0.          0.          0.          0.          0.          0.\n",
      "  0.          0.          0.          0.          0.          0.\n",
      "  0.          0.          0.          0.         -6.65278625 -1.5\n",
      " -0.          0.          6.83172083  6.         -0.          0.        ]\n"
     ]
    }
   ],
   "source": [
    "# reset the environment\n",
    "env_info = env.reset(train_mode=True)[brain_name]\n",
    "\n",
    "# number of agents \n",
    "num_agents = len(env_info.agents)\n",
    "print('Number of agents:', num_agents)\n",
    "\n",
    "# size of each action\n",
    "action_size = brain.vector_action_space_size\n",
    "print('Size of each action:', action_size)\n",
    "\n",
    "# examine the state space \n",
    "states = env_info.vector_observations\n",
    "state_size = states.shape[1]\n",
    "print('There are {} agents. Each observes a state with length: {}'.format(states.shape[0], state_size))\n",
    "print('The state bfor the first agent looks like:', states[0])"
   ]
  },
  {
   "cell_type": "markdown",
   "metadata": {},
   "source": [
    "### 4. It's Your Turn!\n",
    "\n",
    "Now it's your turn to train your own agent to solve the environment!  When training the environment, set `train_mode=True`, so that the line for resetting the environment looks like the following:\n",
    "```python\n",
    "env_info = env.reset(train_mode=True)[brain_name]\n",
    "```"
   ]
  },
  {
   "cell_type": "code",
   "execution_count": 5,
   "metadata": {},
   "outputs": [],
   "source": [
    "num_agents = 2\n",
    "agent = Agent_H(state_size=24, action_size=2 ,nbr_agents = 2, random_seed=2)\n",
    "#agent_fixed = Agent_H(state_size=24, action_size=2 ,nbr_agents = 1, random_seed=2)"
   ]
  },
  {
   "cell_type": "code",
   "execution_count": 6,
   "metadata": {},
   "outputs": [],
   "source": [
    "n_episodes=4000\n",
    "print_every=100\n",
    "scores_deque = deque(maxlen=print_every)\n",
    "scores = np.zeros(num_agents)     "
   ]
  },
  {
   "cell_type": "code",
   "execution_count": 7,
   "metadata": {},
   "outputs": [],
   "source": [
    "def ddpg(n_episodes=4000, max_t=1000):\n",
    "    solved = False\n",
    "    scores_window = deque(maxlen=100)\n",
    "    scores = []\n",
    "    total_time_elapsed = 0\n",
    "    for i_episode in range(1, n_episodes+1):\n",
    "        avg_score = 0\n",
    "        env_info = env.reset(train_mode=True)[brain_name]      # reset the environment    \n",
    "        states = env_info.vector_observations                  # get the current state (for each agent)\n",
    "        scores_t = np.zeros(num_agents)                        # initialize the score (for each agent)\n",
    "        agent.reset()\n",
    "        score = 0\n",
    "        for t_step in range(max_t):\n",
    "            actions = []\n",
    "            actions = agent.act(states)\n",
    "            #actions.append(agent.act(np.expand_dims(states[0],0)))\n",
    "            #actions.append(agent_fixed.act(np.expand_dims(states[1],0)))\n",
    "            env_info = env.step(actions)[brain_name]           # send all actions to tne environment\n",
    "            next_states = env_info.vector_observations         # get next state (for each agent)\n",
    "            rewards = env_info.rewards                         # get reward (for each agent)\n",
    "            dones = env_info.local_done                        # see if episode finished   \n",
    "            agent.step(states, actions, rewards, next_states, dones, t_step)\n",
    "            states = next_states\n",
    "            scores_t += rewards\n",
    "\n",
    "            if np.any(dones):\n",
    "                break\n",
    "        \n",
    "        score = np.max(scores_t)\n",
    "        scores_window.append(score)\n",
    "        avg_score = np.mean(scores_window)\n",
    "        scores.append(score)        \n",
    "        \n",
    "\n",
    "        print(\"\\rEpisode {:}\\t Average Score {:.2f}\\tMax Score {:.2f}\".format(i_episode, avg_score, np.max(scores)), end=\"\")\n",
    "\n",
    "        \n",
    "        if i_episode % 100 == 0:\n",
    "            print(\"\\rEpisode {:}\\t Average Score {:.2f}\\tMax Score {:.2f}\".format(i_episode, avg_score, np.max(scores)))\n",
    "            torch.save(agent.actor_local.state_dict(), './Nets/checkpoint_actor'+str(i_episode)+'.pth')\n",
    "            torch.save(agent.critic_local.state_dict(), './Nets/checkpoint_critic'+str(i_episode)+'.pth')\n",
    "        #if i_episode % 50 == 0:           \n",
    "        #    torch.save(agent.actor_local.state_dict(), './Nets/checkpoint_actor'+str(i_episode)+'.pth')\n",
    "        #    torch.save(agent.critic_local.state_dict(), './Nets/checkpoint_critic'+str(i_episode)+'.pth')\n",
    "        #    agent_fixed.load('./Nets/checkpoint_actor'+str(i_episode)+'.pth','./Nets/checkpoint_critic'+str(i_episode)+'.pth')\n",
    "        if avg_score >= 0.5 and not solved:\n",
    "            print('\\nEnvironment solved in {:d} episodes!\\tAverage Score: {:.2f}'.format(i_episode, avg_score))\n",
    "            torch.save(agent.actor_local.state_dict(), './Nets/final_actor.pth')\n",
    "            torch.save(agent.critic_local.state_dict(), './Nets/final_critic.pth')\n",
    "            solved = True\n",
    "\n",
    "    return scores"
   ]
  },
  {
   "cell_type": "code",
   "execution_count": 8,
   "metadata": {},
   "outputs": [],
   "source": [
    "torch.save(agent.actor_local.state_dict(), './Nets/checkpoint_actor.pth')\n",
    "torch.save(agent.critic_local.state_dict(), './Nets/checkpoint_critic.pth')"
   ]
  },
  {
   "cell_type": "code",
   "execution_count": 9,
   "metadata": {},
   "outputs": [
    {
     "name": "stdout",
     "output_type": "stream",
     "text": [
      "Episode 100\t Average Score 0.00\tMax Score 0.10\n",
      "Episode 200\t Average Score 0.00\tMax Score 0.10\n",
      "Episode 300\t Average Score 0.00\tMax Score 0.10\n",
      "Episode 400\t Average Score 0.00\tMax Score 0.10\n",
      "Episode 500\t Average Score 0.00\tMax Score 0.10\n",
      "Episode 600\t Average Score 0.00\tMax Score 0.10\n",
      "Episode 700\t Average Score 0.01\tMax Score 0.10\n",
      "Episode 800\t Average Score 0.05\tMax Score 0.19\n",
      "Episode 900\t Average Score 0.00\tMax Score 0.19\n",
      "Episode 1000\t Average Score 0.02\tMax Score 0.19\n",
      "Episode 1100\t Average Score 0.06\tMax Score 0.19\n",
      "Episode 1200\t Average Score 0.05\tMax Score 0.30\n",
      "Episode 1300\t Average Score 0.09\tMax Score 0.30\n",
      "Episode 1400\t Average Score 0.09\tMax Score 0.30\n",
      "Episode 1500\t Average Score 0.09\tMax Score 0.30\n",
      "Episode 1600\t Average Score 0.12\tMax Score 0.60\n",
      "Episode 1700\t Average Score 0.16\tMax Score 0.90\n",
      "Episode 1800\t Average Score 0.22\tMax Score 1.30\n",
      "Episode 1900\t Average Score 0.17\tMax Score 1.30\n",
      "Episode 2000\t Average Score 0.19\tMax Score 1.30\n",
      "Episode 2100\t Average Score 0.27\tMax Score 1.30\n",
      "Episode 2200\t Average Score 0.26\tMax Score 1.30\n",
      "Episode 2300\t Average Score 0.22\tMax Score 1.30\n",
      "Episode 2400\t Average Score 0.18\tMax Score 1.30\n",
      "Episode 2500\t Average Score 0.18\tMax Score 1.30\n",
      "Episode 2600\t Average Score 0.25\tMax Score 1.30\n",
      "Episode 2700\t Average Score 0.41\tMax Score 2.60\n",
      "Episode 2731\t Average Score 0.50\tMax Score 2.60\n",
      "Environment solved in 2731 episodes!\tAverage Score: 0.50\n",
      "Episode 2800\t Average Score 0.39\tMax Score 2.60\n",
      "Episode 2900\t Average Score 0.28\tMax Score 2.60\n",
      "Episode 3000\t Average Score 0.31\tMax Score 2.60\n",
      "Episode 3100\t Average Score 0.26\tMax Score 2.60\n",
      "Episode 3200\t Average Score 0.44\tMax Score 2.70\n",
      "Episode 3300\t Average Score 0.40\tMax Score 2.70\n",
      "Episode 3400\t Average Score 0.24\tMax Score 2.70\n",
      "Episode 3500\t Average Score 0.31\tMax Score 2.70\n",
      "Episode 3600\t Average Score 0.28\tMax Score 2.70\n",
      "Episode 3700\t Average Score 0.29\tMax Score 2.70\n",
      "Episode 3800\t Average Score 0.50\tMax Score 2.70\n",
      "Episode 3900\t Average Score 0.59\tMax Score 2.70\n",
      "Episode 4000\t Average Score 1.65\tMax Score 2.70\n"
     ]
    },
    {
     "data": {
      "image/png": "[encoded data removed]",
      "text/plain": [
       "<Figure size 432x288 with 1 Axes>"
      ]
     },
     "metadata": {},
     "output_type": "display_data"
    }
   ],
   "source": [
    "# Train agents\n",
    "scores = ddpg()\n",
    "\n",
    "#Plot results\n",
    "fig = plt.figure()\n",
    "ax = fig.add_subplot(111)\n",
    "plt.plot(np.arange(1, len(scores)+1), scores)\n",
    "plt.ylabel('Score')\n",
    "plt.xlabel('Episode #')\n",
    "plt.show()"
   ]
  },
  {
   "cell_type": "code",
   "execution_count": 10,
   "metadata": {},
   "outputs": [],
   "source": [
    "scores_window = deque(maxlen=100)\n",
    "scores_avg = []\n",
    "for i in range(len(scores)):\n",
    "    scores_window.append(scores[i])\n",
    "    scores_avg.append(np.mean(scores_window))"
   ]
  },
  {
   "cell_type": "code",
   "execution_count": 11,
   "metadata": {},
   "outputs": [
    {
     "data": {
      "image/png": "[encoded data removed]",
      "text/plain": [
       "<Figure size 720x432 with 1 Axes>"
      ]
     },
     "metadata": {},
     "output_type": "display_data"
    }
   ],
   "source": [
    "fig, ax = plt.subplots(figsize=(10, 6))\n",
    "ax.plot(scores_avg,color ='b',  label='DDPG')\n",
    "ax.plot(np.zeros(len(scores_avg)),'black')\n",
    "ax.plot(0.5*np.ones(len(scores_avg)),'r:')\n",
    "legend = ax.legend(loc='lower right', shadow=True, fontsize='x-large')\n",
    "plt.xlabel(\"Episode\")\n",
    "plt.ylabel(\"Average Score\")\n",
    "fig.savefig(\"./Images/Training.png\")"
   ]
  },
  {
   "cell_type": "code",
   "execution_count": 12,
   "metadata": {},
   "outputs": [
    {
     "name": "stdout",
     "output_type": "stream",
     "text": [
      "2.600000038743019\n"
     ]
    }
   ],
   "source": [
    "env_info = env.reset(train_mode=False)[brain_name]      # reset the environment    \n",
    "states = env_info.vector_observations                  # get the current state (for each agent)\n",
    "scores_t = np.zeros(num_agents)                        # initialize the score (for each agent)\n",
    "agent.reset()\n",
    "score = 0\n",
    "t_step = 0\n",
    "agent.load('./Nets/final_actor.pth','./Nets/final_critic.pth')\n",
    "while True:\n",
    "    actions = agent.act(states)     \n",
    "    env_info = env.step(actions)[brain_name]           # send all actions to tne environment\n",
    "    next_states = env_info.vector_observations         # get next state (for each agent)\n",
    "    rewards = env_info.rewards                         # get reward (for each agent)\n",
    "    dones = env_info.local_done                        # see if episode finished   \n",
    "    states = next_states\n",
    "    scores_t += rewards\n",
    "    if np.any(dones):\n",
    "        break\n",
    "print(np.mean(scores_t))"
   ]
  },
  {
   "cell_type": "code",
   "execution_count": 13,
   "metadata": {},
   "outputs": [],
   "source": [
    "env.close()"
   ]
  },
  {
   "cell_type": "code",
   "execution_count": null,
   "metadata": {},
   "outputs": [],
   "source": []
  }
 ],
 "metadata": {
  "kernelspec": {
   "display_name": "Python 3",
   "language": "python",
   "name": "python3"
  },
  "language_info": {
   "codemirror_mode": {
    "name": "ipython",
    "version": 3
   },
   "file_extension": ".py",
   "mimetype": "text/x-python",
   "name": "python",
   "nbconvert_exporter": "python",
   "pygments_lexer": "ipython3",
   "version": "3.6.5"
  }
 },
 "nbformat": 4,
 "nbformat_minor": 2
}
